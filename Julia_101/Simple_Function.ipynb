{
 "cells": [
  {
   "cell_type": "code",
   "execution_count": 3,
   "id": "296628c8",
   "metadata": {},
   "outputs": [
    {
     "data": {
      "text/plain": [
       "add_multiply (generic function with 1 method)"
      ]
     },
     "execution_count": 3,
     "metadata": {},
     "output_type": "execute_result"
    }
   ],
   "source": [
    "function add_multiply(x, y)\n",
    "    add = x+y\n",
    "    multiply = x*y\n",
    "    return add, multiply\n",
    "end"
   ]
  },
  {
   "cell_type": "code",
   "execution_count": 4,
   "id": "bc65a254",
   "metadata": {},
   "outputs": [
    {
     "data": {
      "text/plain": [
       "(30, 200)"
      ]
     },
     "execution_count": 4,
     "metadata": {},
     "output_type": "execute_result"
    }
   ],
   "source": [
    "add_multiply(10, 20)"
   ]
  },
  {
   "cell_type": "code",
   "execution_count": null,
   "id": "9899c1e6",
   "metadata": {},
   "outputs": [],
   "source": []
  }
 ],
 "metadata": {
  "kernelspec": {
   "display_name": "Julia 1.9.2",
   "language": "julia",
   "name": "julia-1.9"
  },
  "language_info": {
   "file_extension": ".jl",
   "mimetype": "application/julia",
   "name": "julia",
   "version": "1.9.2"
  }
 },
 "nbformat": 4,
 "nbformat_minor": 5
}
